{
 "cells": [
  {
   "cell_type": "markdown",
   "id": "f6d48822",
   "metadata": {},
   "source": [
    "# Code to invert the value of the pixels for dark field TEM images. Dark pixels becomes bright, and vice versa."
   ]
  },
  {
   "cell_type": "code",
   "execution_count": 3,
   "id": "c2f75de9",
   "metadata": {},
   "outputs": [],
   "source": [
    "import cv2\n",
    "import numpy as np\n",
    "import matplotlib.pyplot as plt\n",
    "import os"
   ]
  },
  {
   "cell_type": "code",
   "execution_count": 6,
   "id": "04a8783e",
   "metadata": {},
   "outputs": [
    {
     "name": "stdout",
     "output_type": "stream",
     "text": [
      "Inverted and saved: df_inverted\\DF_100-at-6-4-and-7-8_007_jpg.rf.9e1e25d33a72d84b47a584fcb2100f9b.jpg\n",
      "Inverted and saved: df_inverted\\DF_100-at-m6-and-2_005_jpg.rf.a4a3fd3750c4d9d32b0dae946bee5f4d.jpg\n",
      "Inverted and saved: df_inverted\\DF_100-at-m6-and-2_006_jpg.rf.976782d04612274c2c53767ca210b3c0.jpg\n",
      "Inverted and saved: df_inverted\\DF_100Al-at-0-and-m12_001_jpg.rf.88d8b25e71f546bd99c30941615d1613.jpg\n",
      "Inverted and saved: df_inverted\\DF_100Al-at-0-and-m12_004_jpg.rf.0a43fbc912434260c91f291aef248d60.jpg\n",
      "Inverted and saved: df_inverted\\DF_100Al-at-0-and-m12_005_jpg.rf.366760592afb21913d9bae3927f691d9.jpg\n",
      "Inverted and saved: df_inverted\\DF_100Al-at-m6-and-1_spec1_002_jpg.rf.05e83aa2faec8794ba98336f863267c0.jpg\n",
      "Inverted and saved: df_inverted\\DF_100Al-at-m6-and-1_spec1_003_jpg.rf.a22c3da87c286aa7755c8879f8941710.jpg\n",
      "Inverted and saved: df_inverted\\var3_DAA_DF_100-at-8_2-and-m6_2_001_jpg.rf.6da057d8052d5abe822d3a9fa7cdf73d.jpg\n",
      "Inverted and saved: df_inverted\\var3_DAA_DF_100-at-8_2-and-m6_2_002_jpg.rf.126daabd2cc8c7f7f76823891943d52f.jpg\n",
      "Inverted and saved: df_inverted\\var3_DAA_DF_100-at-8_2-and-m6_2_003_jpg.rf.ffd521eeb49625f486bf5f9f687a5820.jpg\n",
      "Inverted and saved: df_inverted\\var3_DAA_DF_100-at-8_2-and-m6_2_004_jpg.rf.269d7a5d926cf09850611ce39e6de226.jpg\n",
      "Inverted and saved: df_inverted\\var3_NA_DF_100-at-6_4-and-7_8_001_jpg.rf.498577ddb3cd9b6f5471bda0b99112e6.jpg\n",
      "Inverted and saved: df_inverted\\var3_NA_DF_100-at-6_4-and-7_8_003_jpg.rf.f906fa96cc4a3ea441167d4c8dd38ad5.jpg\n",
      "Inverted and saved: df_inverted\\var3_NA_DF_100-at-6_4-and-7_8_004_jpg.rf.692bf9bb982548483ba1f46f02f9afb8.jpg\n",
      "Inverted and saved: df_inverted\\var3_PB_DF_100-at-m6-and-2_003_jpg.rf.a4d9ce100dac6990e6d65a9ed361fd97.jpg\n",
      "Inverted and saved: df_inverted\\var6_NA_DF_100Al-at-m11-and-m3_001_jpg.rf.1849da7499b69fd0457486e558fa9cfa.jpg\n",
      "Inverted and saved: df_inverted\\var6_NA_DF_100Al-at-m11-and-m3_003_jpg.rf.8c412bc8fe2f44a086b7f77ebe8cede7.jpg\n",
      "Inverted and saved: df_inverted\\var7_NA_DF_100-at-7-and-7_002_jpg.rf.afbc0f3d906dcbad8276f8a616854572.jpg\n",
      "Inverted and saved: df_inverted\\var7_NA_DF_100-at-7-and-7_003_jpg.rf.56a67c685e73f8caa9dfa632dcee014e.jpg\n",
      "Inverted and saved: df_inverted\\var7_NA_DF_100-at-7-and-7_004_jpg.rf.df6436f371c14712ff061c435e8f198d.jpg\n"
     ]
    }
   ],
   "source": [
    "input_folder = \"df_images\"\n",
    "output_folder = \"df_inverted\"\n",
    "\n",
    "os.makedirs(output_folder, exist_ok=True)\n",
    "\n",
    "valid_exts = ['.png', '.jpg', '.jpeg']\n",
    "\n",
    "for filename in os.listdir(input_folder):\n",
    "    if any(filename.lower().endswith(ext) for ext in valid_exts):\n",
    "        image_path = os.path.join(input_folder, filename)\n",
    "        img = cv2.imread(image_path, cv2.IMREAD_GRAYSCALE)\n",
    "\n",
    "        if img is None:\n",
    "            print(f\"Skipping unreadable image: {filename}\")\n",
    "            continue\n",
    "\n",
    "        # Invert the image\n",
    "        inverted = cv2.bitwise_not(img)\n",
    "\n",
    "        # Save to output folder\n",
    "        output_path = os.path.join(output_folder, filename)\n",
    "        cv2.imwrite(output_path, inverted)\n",
    "\n",
    "        print(f\"Inverted and saved: {output_path}\")\n",
    "\n"
   ]
  }
 ],
 "metadata": {
  "kernelspec": {
   "display_name": "Python 3",
   "language": "python",
   "name": "python3"
  },
  "language_info": {
   "codemirror_mode": {
    "name": "ipython",
    "version": 3
   },
   "file_extension": ".py",
   "mimetype": "text/x-python",
   "name": "python",
   "nbconvert_exporter": "python",
   "pygments_lexer": "ipython3",
   "version": "3.10.8"
  }
 },
 "nbformat": 4,
 "nbformat_minor": 5
}
