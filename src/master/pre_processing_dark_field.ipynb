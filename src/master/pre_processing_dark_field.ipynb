{
 "cells": [
  {
   "cell_type": "markdown",
   "id": "db6a2e31",
   "metadata": {},
   "source": [
    "# Code to enchance the contrast of the Dark Field TEM images using CLAHE Histogram Equalization - OpenCV\n"
   ]
  },
  {
   "cell_type": "code",
   "execution_count": 18,
   "id": "3f34d644",
   "metadata": {},
   "outputs": [],
   "source": [
    "import cv2\n",
    "import numpy as np\n",
    "from skimage.io import imread\n",
    "import os"
   ]
  },
  {
   "cell_type": "code",
   "execution_count": 19,
   "id": "a0c7b091",
   "metadata": {},
   "outputs": [],
   "source": [
    "\n",
    "def apply_clahe(image, clip_limit=2.0, tile_grid_size=(8, 8)):\n",
    "\n",
    "    # If image has multiple channels (RGB), convert to grayscale\n",
    "    if len(image.shape) == 3 and image.shape[2] == 3:\n",
    "        image = cv2.cvtColor(image, cv2.COLOR_RGB2GRAY)\n",
    "\n",
    "    # Convert to 8-bit if needed\n",
    "    if image.dtype != np.uint8:\n",
    "        image = cv2.normalize(image, None, 0, 255, cv2.NORM_MINMAX).astype(np.uint8)\n",
    "    \n",
    "    clahe = cv2.createCLAHE(clipLimit=clip_limit, tileGridSize=tile_grid_size)\n",
    "    enhanced = clahe.apply(image)\n",
    "    return enhanced\n"
   ]
  },
  {
   "cell_type": "code",
   "execution_count": 26,
   "id": "c1df98c2",
   "metadata": {},
   "outputs": [
    {
     "name": "stdout",
     "output_type": "stream",
     "text": [
      "Processed: DF_100-at-m6-and-2_006_jpg.rf.54b3027e4826bf5673a1e519a9016474.jpg\n",
      "Processed: DF_100Al-at-0-and-m12_001_jpg.rf.4736e6e2e83b90b1de77c9c74f4efcc6.jpg\n",
      "Processed: var3_DAA_DF_100-at-8_2-and-m6_2_001_jpg.rf.0b347ed284de894799dc18fc898c4e4a.jpg\n",
      "Processed: var3_NA_DF_100-at-6_4-and-7_8_003_jpg.rf.47e34f29bf7b51b653ef4ea451b7f1cc.jpg\n",
      "Processed: var6_NA_DF_100Al-at-m11-and-m3_003_jpg.rf.dabf134b4d89b2acb7780eadcbcd0d2e.jpg\n",
      "Processed: var7_NA_DF_100-at-7-and-7_003_jpg.rf.dad0546b975fcd765b1c0d9a62f36786.jpg\n",
      "Processed: var7_NA_DF_100-at-7-and-7_004_jpg.rf.fd94e904a0fd4a886215006562b8c442.jpg\n"
     ]
    }
   ],
   "source": [
    "def apply_clahe_to_folder(input_folder, output_folder, clip_limit=2.0, tile_grid_size=(8, 8)):\n",
    "    os.makedirs(output_folder, exist_ok=True)\n",
    "\n",
    "    for filename in os.listdir(input_folder):\n",
    "        if filename.lower().endswith((\".png\", \".jpg\", \".jpeg\", \".tif\", \".tiff\")):\n",
    "            input_path = os.path.join(input_folder, filename)\n",
    "            output_path = os.path.join(output_folder, filename)\n",
    "\n",
    "            image = cv2.imread(input_path, cv2.IMREAD_UNCHANGED)\n",
    "            if image is None:\n",
    "                print(f\"Skipping {filename}: failed to load.\")\n",
    "                continue\n",
    "\n",
    "            enhanced = apply_clahe(image, clip_limit=clip_limit, tile_grid_size=tile_grid_size)\n",
    "\n",
    "            cv2.imwrite(output_path, enhanced)\n",
    "            print(f\"Processed: {filename}\")\n",
    "\n",
    "input_dir = \"df_images\"\n",
    "output_dir = \"df_images_contrast\"\n",
    "apply_clahe_to_folder(input_dir, output_dir)"
   ]
  }
 ],
 "metadata": {
  "kernelspec": {
   "display_name": "Python 3",
   "language": "python",
   "name": "python3"
  },
  "language_info": {
   "codemirror_mode": {
    "name": "ipython",
    "version": 3
   },
   "file_extension": ".py",
   "mimetype": "text/x-python",
   "name": "python",
   "nbconvert_exporter": "python",
   "pygments_lexer": "ipython3",
   "version": "3.10.8"
  }
 },
 "nbformat": 4,
 "nbformat_minor": 5
}
