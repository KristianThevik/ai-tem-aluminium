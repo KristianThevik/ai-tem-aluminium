{
 "cells": [
  {
   "cell_type": "markdown",
   "id": "b8dde01f-50ea-47aa-b181-5bb8c769b80f",
   "metadata": {},
   "source": [
    "# Automatic segmentation of precipitate statistics using U-Net architecture\n",
    "\n",
    "This code utilizes a U-Net deep learning architecture to automatically extract precipitate statistics from transmission electron microscopy (TEM) images. \n",
    "The code is developed as part of a master's thesis in applied physics, the code segments precipitates within the images, enabling the automatic measurement of precipitate length and cross-sections. \n",
    "By automating this process, it significantly accelerates the analysis of precipitate distributions, aiding in materials research and development. The code has been adapted from the Master Thesis of **Espen J. Gregory**, and has been restructered and further developed.\n",
    "\n",
    "## Author:\n",
    "\n",
    "**Kristian B. Thevik** - Developed for Master thesis in Physics 2025\n",
    "\n",
    "## Note:\n",
    "- It is recommended to have a GPU and the CUDA-version of Pytorch installed (However it is not required).\n",
    "- Data can be loaded in two ways, either by directly uploading the .DM3 file, or converting the .DM3 to an image (.jpeg/.png) and manually selecting the calibration unit *nm_per_px*.\n",
    "- U-Net documentation: https://arxiv.org/abs/1505.04597\n"
   ]
  },
  {
   "cell_type": "markdown",
   "id": "f56b381c-853f-49aa-b4f5-fc954f654336",
   "metadata": {},
   "source": [
    "### Imports and PyTorch initializationk"
   ]
  },
  {
   "cell_type": "code",
   "execution_count": 1,
   "id": "1f4dbfa4-f712-4bf3-9f62-8cf306b34b8d",
   "metadata": {},
   "outputs": [
    {
     "name": "stdout",
     "output_type": "stream",
     "text": [
      "Requirement already satisfied: pandas in c:\\users\\krist\\appdata\\local\\programs\\python\\python310\\lib\\site-packages (2.2.2)Note: you may need to restart the kernel to use updated packages.\n",
      "\n",
      "Requirement already satisfied: numpy>=1.22.4 in c:\\users\\krist\\appdata\\local\\programs\\python\\python310\\lib\\site-packages (from pandas) (1.26.4)\n",
      "Requirement already satisfied: python-dateutil>=2.8.2 in c:\\users\\krist\\appdata\\roaming\\python\\python310\\site-packages (from pandas) (2.9.0.post0)\n",
      "Requirement already satisfied: pytz>=2020.1 in c:\\users\\krist\\appdata\\local\\programs\\python\\python310\\lib\\site-packages (from pandas) (2024.1)\n",
      "Requirement already satisfied: tzdata>=2022.7 in c:\\users\\krist\\appdata\\local\\programs\\python\\python310\\lib\\site-packages (from pandas) (2024.1)\n",
      "Requirement already satisfied: six>=1.5 in c:\\users\\krist\\appdata\\local\\programs\\python\\python310\\lib\\site-packages (from python-dateutil>=2.8.2->pandas) (1.16.0)\n"
     ]
    },
    {
     "name": "stderr",
     "output_type": "stream",
     "text": [
      "\n",
      "[notice] A new release of pip is available: 24.2 -> 25.1.1\n",
      "[notice] To update, run: python.exe -m pip install --upgrade pip\n"
     ]
    },
    {
     "name": "stdout",
     "output_type": "stream",
     "text": [
      "Device type: cpu\n"
     ]
    }
   ],
   "source": [
    "%matplotlib qt5\n",
    "%load_ext autoreload\n",
    "%autoreload 2\n",
    "%pip install pandas\n",
    "\n",
    "import cv2\n",
    "import time\n",
    "import torch\n",
    "import numpy as np\n",
    "import pandas as pd\n",
    "import tkinter as tk\n",
    "#import _dm3_lib as dm\n",
    "from pathlib import Path\n",
    "from PIL import Image\n",
    "from itertools import product\n",
    "from tkinter import filedialog\n",
    "#from u_net_pytorch import UNet\n",
    "from skimage import measure, color, io\n",
    "from skimage.segmentation import clear_border\n",
    "from pathlib import Path\n",
    "\n",
    "\"\"\"PyTorch Initialization\"\"\"\n",
    "torch.backends.cudnn.deterministic = True\n",
    "torch.backends.cudnn.benchmark     = True\n",
    "torch.manual_seed(0)\n",
    "torch.cuda.manual_seed(0)\n",
    "device = torch.device('cuda:0' if torch.cuda.is_available() else 'cpu')\n",
    "print(\"Device type: %s\"%(device))"
   ]
  },
  {
   "cell_type": "code",
   "execution_count": 2,
   "id": "ee5aae2e",
   "metadata": {},
   "outputs": [
    {
     "name": "stderr",
     "output_type": "stream",
     "text": [
      "C:\\Users\\krist\\Documents\\masterRepo\\src\\testMaster\\DatasetEvaluator.py:312: FutureWarning: You are using `torch.load` with `weights_only=False` (the current default value), which uses the default pickle module implicitly. It is possible to construct malicious pickle data which will execute arbitrary code during unpickling (See https://github.com/pytorch/pytorch/blob/main/SECURITY.md#untrusted-models for more details). In a future release, the default value for `weights_only` will be flipped to `True`. This limits the functions that could be executed during unpickling. Arbitrary objects will no longer be allowed to be loaded via this mode unless they are explicitly allowlisted by the user via `torch.serialization.add_safe_globals`. We recommend you start setting `weights_only=True` for any use case where you don't have full control of the loaded file. Please open an issue on GitHub for any issues related to this experimental feature.\n",
      "  self.checkpoint = torch.load(model, map_location=torch.device(device))\n"
     ]
    },
    {
     "name": "stdout",
     "output_type": "stream",
     "text": [
      " Unet Model Loaded\n"
     ]
    },
    {
     "name": "stderr",
     "output_type": "stream",
     "text": [
      "c:\\Users\\krist\\AppData\\Local\\Programs\\Python\\Python310\\lib\\site-packages\\numpy\\core\\fromnumeric.py:3504: RuntimeWarning: Mean of empty slice.\n",
      "  return _methods._mean(a, axis=axis, dtype=dtype,\n",
      "c:\\Users\\krist\\AppData\\Local\\Programs\\Python\\Python310\\lib\\site-packages\\numpy\\core\\_methods.py:129: RuntimeWarning: invalid value encountered in scalar divide\n",
      "  ret = ret.dtype.type(ret / rcount)\n"
     ]
    },
    {
     "name": "stdout",
     "output_type": "stream",
     "text": [
      "Average: 26.56 nm, STDev: 16.28 nm, Number counted: 963, STDev of mean: 0.52 nm, Number density: 0.0009617nm^-2\n",
      "664 [17.0089999962, 12.0, 13.005, 9.00100000381, 5.00900000095, 14.0089999962, 6.0099999905, 11.0089999962, 10.0060000038, 7.00300000191, 10.0089999962, 15.0030000019, 10.0010000038, 10.0069999981, 9.005, 13.0019999981, 13.0039999962, 11.0039999962, 13.0, 8.00715000153, 5.00699999809, 6.00400000095, 7.0, 10.0010000038, 11.0069999981, 8.00199999809, 8.00800000191, 8.00100000381, 7.00300000191, 8.0, 23.0070000076, 11.0010000038, 15.0, 16.005, 12.0060000038, 12.0080000019, 9.00300000191, 8.0, 12.0030000019, 11.0019999981, 14.0, 8.005, 9.0, 12.005, 12.0019999981, 16.0020000076, 12.0030000019, 11.005, 7.00400000095, 21.005, 15.005, 13.0, 7.00699999809, 9.00399999619, 8.00100000381, 8.00600000381, 12.0039999962, 7.00199999809, 9.005, 12.0, 11.0080000019, 13.0060000038, 12.0039999962, 20.0020000076, 11.0080000019, 21.0, 9.00800000191, 11.0, 11.0060000038, 6.00800000191, 17.0020000076, 14.0039999962, 12.0030000019, 8.00800000191, 16.0029999924, 15.0, 9.00100000381, 16.0089999962, 10.0019999981, 12.0089999962, 11.0, 12.0019999981, 10.0060000038, 5.00599999905, 5.00599999905, 14.0010000038, 9.00600000381, 14.0019999981, 13.0060000038, 17.0010000038, 10.0089999962, 7.00199999809, 8.0, 16.0010000038, 10.0010000038, 15.0060000038, 16.0070000076, 8.005, 16.0070000076, 6.00800000191, 18.0020000076, 17.005, 12.0080000019, 11.0069999981, 16.0, 13.0080000019, 10.0, 15.0069999981, 8.00800000191, 12.0069999981, 9.00100000381, 14.0030000019, 13.0, 10.0030000019, 10.0089999962, 13.0030000019, 16.0, 12.0010000038, 10.0080000019, 11.0060000038, 11.0, 17.0089999962, 9.00800000191, 13.0030000019, 14.0069999981, 10.0030000019, 9.00600000381, 9.00300000191, 19.0029999924, 11.0080000019, 19.0020000076, 8.00899999619, 12.0030000019, 14.0039999962, 10.0, 12.0060000038, 8.00699999809, 6.005, 6.005, 11.0069999981, 7.00400000095, 9.00399999619, 7.00699999809, 7.0099999905, 10.0, 6.00400000095, 17.0010000038, 12.0019999981, 7.00699999809, 8.0, 7.00699999809, 8.0, 5.00699999809, 18.0020000076, 11.0019999981, 18.0060000038, 8.00699999809, 11.0010000038, 10.0, 8.00600000381, 12.0010000038, 6.0099999905, 10.0069999981, 10.0069999981, 10.0, 9.00899999619, 10.0019999981, 12.0019999981, 7.0, 10.0060000038, 7.00400000095, 6.00599999905, 8.00600000381, 15.0060000038, 14.0039999962, 14.0, 14.0089999962, 8.0, 11.0069999981, 14.005, 7.00699999809, 21.005, 16.0039999962, 10.0069999981, 10.0080000019, 9.00300000191, 13.005, 13.0060000038, 11.0019999981, 16.005, 9.00100000381, 11.0030000019, 10.005, 6.0, 6.00300000191, 10.0060000038, 12.0030000019, 12.0030000019, 7.00599999905, 13.0069999981, 5.0099999905, 8.00899999619, 10.0039999962, 8.00699999809, 9.00300000191, 7.00900000095, 12.0069999981, 13.0080000019, 10.0010000038, 11.0060000038, 6.00400000095, 8.00600000381, 9.00100000381, 9.005, 10.0080000019, 9.00899999619, 8.00800000191, 8.00600000381, 12.0060000038, 23.0039999962, 8.00699999809, 8.005, 15.0089999962, 11.0039999962, 13.0010000038, 13.0080000019, 8.00199999809, 16.0, 9.0, 8.005, 8.00800000191, 12.005, 12.0, 14.0080000019, 28.0070000076, 20.0070000076, 12.005, 11.0030000019, 11.0069999981, 10.0030000019, 10.0, 11.0060000038, 12.0039999962, 10.0089999962, 17.005, 14.0089999962, 8.0, 9.0, 17.0060000038, 9.00600000381, 10.0089999962, 8.00800000191, 15.0069999981, 15.0030000019, 12.0010000038, 6.00199999809, 9.00100000381, 8.0, 10.0080000019, 13.0089999962, 9.0, 10.0010000038, 10.0019999981, 10.0089999962, 12.005, 20.0039999962, 9.00699999809, 12.0069999981, 11.0060000038, 12.0060000038, 13.0, 9.00899999619, 7.00699999809, 4.00900000095, 8.005, 9.00399999619, 9.00800000191, 16.005, 9.00699999809, 7.00300000191, 7.00800000191, 18.0010000038, 22.0020000076, 13.0060000038, 6.00599999905, 17.0, 11.0019999981, 14.0089999962, 10.0, 10.0, 6.00800000191, 10.0080000019, 7.00300000191, 10.0089999962, 15.0, 12.0030000019, 15.0030000019, 12.0010000038, 9.00899999619, 14.0089999962, 9.00100000381, 13.0089999962, 17.005, 7.00599999905, 7.00699999809, 15.0089999962, 8.00600000381, 7.0, 13.0060000038, 14.0030000019, 7.00800000191, 13.0060000038, 8.005, 12.0089999962, 17.0, 6.00300000191, 9.00699999809, 7.0099999905, 7.0, 18.0039999962, 16.0089999962, 10.0019999981, 13.0010000038, 13.005, 11.0010000038, 11.0019999981, 11.0060000038, 10.0080000019, 7.00900000095, 13.0080000019, 13.0030000019, 18.0020000076, 12.0, 13.0069999981, 9.0, 17.0070000076, 11.0060000038, 11.0060000038, 8.00800000191, 8.00699999809, 14.0019999981, 11.0069999981, 9.00199999809, 11.005, 9.0, 14.0080000019, 8.00399999619, 11.0010000038, 7.00199999809, 6.00300000191, 13.0080000019, 8.00399999619, 8.00100000381, 12.0080000019, 15.0, 7.00199999809, 8.00800000191, 7.00900000095, 19.0089999962, 21.0020000076, 21.0, 11.0039999962, 10.005, 14.0069999981, 15.0069999981, 10.0030000019, 13.005, 16.0079999924, 15.0060000038, 12.0039999962, 18.0079999924, 7.00900000095, 18.0010000038, 16.0079999924, 13.0060000038, 12.0010000038, 13.0, 18.0070000076, 18.0039999962, 8.00300000191, 10.0, 11.0080000019, 6.00900000095, 12.0039999962, 13.0080000019, 6.005, 10.0039999962, 15.0, 17.0020000076, 19.0079999924, 7.00599999905, 9.00399999619, 22.0, 5.00800000191, 13.0069999981, 12.0019999981, 6.00599999905, 7.0099999905, 9.00300000191, 12.0039999962, 8.00899999619, 13.005, 5.00900000095, 13.0080000019, 9.005, 7.00699999809, 10.005, 15.0039999962, 13.0080000019, 9.00800000191, 13.0069999981, 10.0039999962, 7.00400000095, 19.0089999962, 17.0029999924, 12.0019999981, 12.0089999962, 7.00300000191, 9.00300000191, 11.0, 5.00900000095, 5.00599999905, 9.00600000381, 8.005, 11.0089999962, 8.00300000191, 10.005, 15.005, 10.0019999981, 9.00800000191, 14.0019999981, 10.0030000019, 15.0030000019, 15.0, 14.0060000038, 9.005, 18.0020000076, 12.0039999962, 17.0029999924, 14.0069999981, 17.0089999962, 8.00100000381, 7.0, 9.00600000381, 18.0, 19.005, 13.005, 10.0080000019, 13.0010000038, 24.0060000038, 15.0010000038, 11.0039999962, 19.0060000038, 13.0010000038, 16.0060000038, 12.0039999962, 14.0060000038, 10.0019999981, 9.00600000381, 8.00699999809, 6.00900000095, 9.0, 9.00800000191, 13.0039999962, 10.0030000019, 12.0080000019, 9.00399999619, 14.005, 15.0060000038, 11.005, 12.005, 12.0039999962, 13.005, 15.0030000019, 17.0070000076, 18.005, 7.0099999905, 14.0039999962, 13.005, 15.0069999981, 8.00600000381, 10.0030000019, 13.0060000038, 9.005, 15.0, 11.0069999981, 15.0, 26.0070000076, 14.0, 11.0039999962, 8.0, 12.0019999981, 12.0010000038, 12.0030000019, 15.0080000019, 22.0020000076, 21.0020000076, 13.0089999962, 9.005, 16.0, 11.0080000019, 11.0010000038, 17.0079999924, 14.0069999981, 10.0080000019, 7.00300000191, 9.0, 13.0060000038, 20.0089999962, 9.00600000381, 15.005, 10.0039999962, 10.0, 18.0, 12.0060000038, 8.00300000191, 20.0029999924, 9.00100000381, 9.00899999619, 7.00199999809, 9.00600000381, 13.0010000038, 9.00600000381, 20.0020000076, 9.00399999619, 17.0, 8.00399999619, 17.0039999962, 7.00300000191, 8.0, 8.00300000191, 9.0, 17.0039999962, 7.00900000095, 15.0069999981, 6.00800000191, 17.0010000038, 10.0, 17.0039999962, 18.0060000038, 19.0, 19.0079999924, 15.0030000019, 10.0, 13.005, 18.0029999924, 7.00699999809, 8.005, 13.0, 16.0020000076, 18.0029999924, 21.0079999924, 8.00300000191, 16.0060000038, 8.00699999809, 6.00300000191, 8.00600000381, 11.0010000038, 10.005, 24.0060000038, 11.005, 9.00600000381, 12.005, 18.0039999962, 19.0039999962, 11.005, 16.0089999962, 12.0069999981, 8.005, 10.0080000019, 8.0, 14.0019999981, 22.0039999962, 18.0029999924, 9.00899999619, 11.0, 19.0070000076, 8.00300000191, 13.005, 13.005, 10.0039999962, 15.0069999981, 12.0089999962, 9.00199999809, 8.00899999619, 9.0, 13.0039999962, 16.0070000076, 15.0039999962, 15.0069999981, 11.005, 15.0, 10.0089999962, 14.0089999962, 9.0, 15.005, 9.0, 10.0019999981, 21.0010000038, 8.00399999619, 23.0079999924, 8.00699999809, 19.0089999962, 23.0, 18.0089999962, 10.0019999981, 7.00599999905, 19.0010000038, 7.00599999905, 12.0039999962, 13.0030000019, 8.00100000381, 13.0010000038, 13.0069999981, 14.0030000019, 7.005, 11.005, 19.0, 13.0010000038, 8.00399999619, 13.0010000038, 13.0019999981, 22.0, 6.00400000095, 10.0060000038, 9.00800000191, 10.0089999962, 12.0069999981, 22.0070000076, 20.0020000076, 8.00699999809, 15.005, 11.0060000038, 9.00800000191, 17.0039999962, 13.0089999962, 9.00800000191, 14.0089999962, 14.0080000019, 10.0019999981, 21.0020000076, 12.0039999962, 13.0010000038, 15.0069999981, 21.0089999962, 9.0, 9.00699999809, 6.00400000095, 14.0010000038, 13.0019999981, 14.0010000038, 13.0, 11.0069999981, 28.0010000038, 13.0, 14.0, 7.00900000095, 11.0, 11.0030000019, 13.0089999962, 9.00300000191, 11.0080000019, 14.0, 12.0060000038]\n",
      "Mean:  11.772589081482485 STD:  4.059175414216625\n"
     ]
    }
   ],
   "source": [
    "# Using DataSetEvaluator\n",
    "from testMaster.DatasetEvaluator import UNETEvaluator\n",
    "\n",
    "# If files in the dataset are .dm3 files, nm_per_px will be extracted automatically and replace the \n",
    "# existing nm_per_px value in the list. It works to have some files as dm3 and some as .jpg/.png.\n",
    "# Always give nm_per_px as a list with lenght equal to number of files to be evaluated. First value corresponds\n",
    "# to nm_per_px value for the first image and so on. For dm3 files an arbitrary value can be given, it will be replaced\n",
    "# either way.\n",
    "\n",
    "\n",
    "nm_per_px = [0.069661] * 8 #Cross\n",
    "#nm_per_px = [0.16685] * 8 #Length\n",
    "\n",
    "# Example usage:\n",
    "this_dir = Path.cwd()\n",
    "dataset_path = this_dir.parent / \"data\" / \"var3_NA_5h185C_length\"\n",
    "model_path = this_dir.parent / \"data\" / \"models\" / \"length_unet.pth\"\n",
    "\n",
    "\n",
    "unet_evaluator = UNETEvaluator(\n",
    "    dataset_dir = dataset_path,\n",
    "    model = model_path,\n",
    "    nm_per_px = nm_per_px,\n",
    "    type = 'length',\n",
    "    device = 'cpu'\n",
    ")\n",
    "\n",
    "unet_evaluator.statistics()\n",
    "\n"
   ]
  }
 ],
 "metadata": {
  "kernelspec": {
   "display_name": "Python 3",
   "language": "python",
   "name": "python3"
  },
  "language_info": {
   "codemirror_mode": {
    "name": "ipython",
    "version": 3
   },
   "file_extension": ".py",
   "mimetype": "text/x-python",
   "name": "python",
   "nbconvert_exporter": "python",
   "pygments_lexer": "ipython3",
   "version": "3.10.8"
  }
 },
 "nbformat": 4,
 "nbformat_minor": 5
}
