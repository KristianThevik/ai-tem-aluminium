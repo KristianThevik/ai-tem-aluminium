{
 "cells": [
  {
   "cell_type": "code",
   "execution_count": null,
   "metadata": {},
   "outputs": [
    {
     "name": "stdout",
     "output_type": "stream",
     "text": [
      "Ultralytics 8.3.27  Python-3.10.8 torch-2.5.1+cpu CPU (AMD Ryzen 5 3500U with Radeon Vega Mobile Gfx)\n",
      "Setup complete  (8 CPUs, 6.9 GB RAM, 214.5/237.4 GB disk)\n"
     ]
    }
   ],
   "source": [
    "%load_ext autoreload\n",
    "%autoreload 2\n",
    "%matplotlib qt5\n",
    "\n",
    "\n",
    "#%pip install --user ultralytics supervision roboflow opencv-python>=4.6.0 pandas>=1.1.4 py-cpuinfo scipy>=1.10.0 defusedxml<0.8.0,>=0.7.1 tqdm>=4.64.0\n",
    "\n",
    "\n",
    "import ultralytics\n",
    "ultralytics.checks()\n",
    "\n",
    "from pathlib import Path\n",
    "from ultralytics import YOLO\n"
   ]
  },
  {
   "cell_type": "code",
   "execution_count": 18,
   "metadata": {},
   "outputs": [
    {
     "name": "stdout",
     "output_type": "stream",
     "text": [
      "YOLOv11 Model Loaded\n",
      "Prediction confidence threshold set to 0.25\n",
      "\n",
      "image 1/1 c:\\Users\\krist\\Documents\\masterRepo\\data\\test_length\\174_png.rf.7739066d7bb4d1597a0357900901c61d.jpg: 1024x1024 124 needles, 1170.7ms\n",
      "Speed: 15.0ms preprocess, 1170.7ms inference, 417.3ms postprocess per image at shape (1, 3, 1024, 1024)\n",
      "(1024, 1024, 3)\n",
      "Prediction confidence threshold set to 0.25\n",
      "\n",
      "image 1/1 c:\\Users\\krist\\Documents\\masterRepo\\data\\test_length\\178_png.rf.53bb63769423ff90cb759a9bb85b5d47.jpg: 1024x1024 52 needles, 1208.1ms\n",
      "Speed: 13.0ms preprocess, 1208.1ms inference, 197.9ms postprocess per image at shape (1, 3, 1024, 1024)\n",
      "(1024, 1024, 3)\n",
      "Prediction confidence threshold set to 0.25\n",
      "\n",
      "image 1/1 c:\\Users\\krist\\Documents\\masterRepo\\data\\test_length\\179_png.rf.35cc0e920836ee87baca0ce5405bc3d4.jpg: 1024x1024 49 needles, 1250.4ms\n",
      "Speed: 14.2ms preprocess, 1250.4ms inference, 163.6ms postprocess per image at shape (1, 3, 1024, 1024)\n",
      "(1024, 1024, 3)\n",
      "Prediction confidence threshold set to 0.25\n",
      "\n",
      "image 1/1 c:\\Users\\krist\\Documents\\masterRepo\\data\\test_length\\181_png.rf.1b4c1f6aa8fa489dac62d0f28236d028.jpg: 1024x1024 34 needles, 1201.2ms\n",
      "Speed: 10.9ms preprocess, 1201.2ms inference, 120.9ms postprocess per image at shape (1, 3, 1024, 1024)\n",
      "(1024, 1024, 3)\n",
      "Prediction confidence threshold set to 0.25\n",
      "\n",
      "image 1/1 c:\\Users\\krist\\Documents\\masterRepo\\data\\test_length\\182_png.rf.ad49e5191b502ecb8c2eb8ea2f856de2.jpg: 1024x1024 82 needles, 1195.9ms\n",
      "Speed: 12.0ms preprocess, 1195.9ms inference, 282.3ms postprocess per image at shape (1, 3, 1024, 1024)\n",
      "(1024, 1024, 3)\n",
      "Prediction confidence threshold set to 0.25\n",
      "\n",
      "image 1/1 c:\\Users\\krist\\Documents\\masterRepo\\data\\test_length\\183_png.rf.d2c17395ca76f1f70a15781ea0593524.jpg: 1024x1024 80 needles, 1181.0ms\n",
      "Speed: 14.9ms preprocess, 1181.0ms inference, 271.8ms postprocess per image at shape (1, 3, 1024, 1024)\n",
      "(1024, 1024, 3)\n",
      "Average: 31.39 nm, STDev: 19.16 nm, Number counted: 334, STDev of mean: 1.05 nm, Number density: 0.0004767nm^-2\n"
     ]
    }
   ],
   "source": [
    "# Using DataSetEvaluator\n",
    "from testMaster.DatasetEvaluator import YOLOEvaluator\n",
    "\n",
    "# If files in the dataset are .dm3 files, nm_per_px will be extracted automatically and replace the \n",
    "# existing nm_per_px value in the list. It works to have some files as dm3 and some as .jpg/.png.\n",
    "# Always give nm_per_px as a list with lenght equal to number of files to be evaluated. First value corresponds\n",
    "# to nm_per_px value for the first image and so on. For dm3 files an arbitrary value can be given, it will be replaced\n",
    "# either way.\n",
    "\n",
    "#nm_per_px = [0.069661] * 6 #Cross\n",
    "nm_per_px = [0.16685] * 6 #Length\n",
    "\n",
    "\n",
    "# Example usage:\n",
    "this_dir = Path.cwd()\n",
    "dataset_path = this_dir.parent / \"data\" / \"test_length\"\n",
    "model_path = this_dir.parent / \"data\" / \"models\" / \"length_yolo.pt\"\n",
    "model = YOLO(model_path)\n",
    "  \n",
    "\n",
    "yolo_evaluator = YOLOEvaluator(\n",
    "    dataset_dir = dataset_path,\n",
    "    model = model,\n",
    "    nm_per_px = nm_per_px,\n",
    "    cross = False,\n",
    "    device = 'cpu'\n",
    ")\n",
    "\n",
    "yolo_evaluator.statistics()\n",
    "\n"
   ]
  }
 ],
 "metadata": {
  "kernelspec": {
   "display_name": "Python 3",
   "language": "python",
   "name": "python3"
  },
  "language_info": {
   "codemirror_mode": {
    "name": "ipython",
    "version": 3
   },
   "file_extension": ".py",
   "mimetype": "text/x-python",
   "name": "python",
   "nbconvert_exporter": "python",
   "pygments_lexer": "ipython3",
   "version": "3.10.8"
  }
 },
 "nbformat": 4,
 "nbformat_minor": 2
}
